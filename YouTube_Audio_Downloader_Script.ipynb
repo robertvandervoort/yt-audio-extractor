{
  "cells": [
    {
      "cell_type": "code",
      "source": [
        "import yt_dlp\n",
        "import os\n",
        "\n",
        "def download_youtube_audio_as_mp3(url, output_path=\".\"):\n",
        "    \"\"\"\n",
        "    Downloads the audio from a YouTube video and saves it as an MP3 file.\n",
        "\n",
        "    Args:\n",
        "        url (str): The URL of the YouTube video.\n",
        "        output_path (str): The directory where the MP3 file will be saved.\n",
        "                           Defaults to the current directory.\n",
        "    \"\"\"\n",
        "    # Ensure the output directory exists\n",
        "    if not os.path.exists(output_path):\n",
        "        os.makedirs(output_path)\n",
        "\n",
        "    # Define yt-dlp options\n",
        "    # These options tell yt-dlp to:\n",
        "    # 1. Extract only the audio (--extract-audio)\n",
        "    # 2. Convert the audio to MP3 (--audio-format mp3)\n",
        "    # 3. Keep the best audio quality available (--audio-quality 0)\n",
        "    # 4. Use a specific output template to name the file\n",
        "    #    (e.g., \"Video Title.mp3\") (--output)\n",
        "    # 5. Not print a lot of verbose information during download (-q for quiet)\n",
        "    # 6. Not download the video if the file already exists (--no-overwrites)\n",
        "    ydl_opts = {\n",
        "        'format': 'bestaudio/best',  # Select the best audio format\n",
        "        'postprocessors': [{  # Post-processing steps\n",
        "            'key': 'FFmpegExtractAudio',  # Use FFmpeg to extract audio\n",
        "            'preferredcodec': 'mp3',      # Preferred audio codec is mp3\n",
        "            'preferredquality': '320',    # Preferred audio quality (e.g., 320kbps)\n",
        "        }],\n",
        "        'outtmpl': os.path.join(output_path, '%(title)s.%(ext)s'), # Output file path and name\n",
        "        'quiet': False, # Set to True for less verbose output\n",
        "        'nocheckcertificate': True, # bypass SSL certificate verification\n",
        "        'verbose': False, # Set to True for very detailed output (useful for debugging)\n",
        "    }\n",
        "\n",
        "    try:\n",
        "        print(f\"Attempting to download audio from: {url}\")\n",
        "        with yt_dlp.YoutubeDL(ydl_opts) as ydl:\n",
        "            info_dict = ydl.extract_info(url, download=True)\n",
        "            # Get the actual filename after download, handling potential changes by yt-dlp\n",
        "            # This is a bit more complex as yt-dlp's internal naming can be dynamic.\n",
        "            # For simplicity, we'll just confirm it finished.\n",
        "            print(\"Download complete! Look for the MP3 file in the specified output directory.\")\n",
        "\n",
        "    except yt_dlp.utils.DownloadError as e:\n",
        "        print(f\"Error downloading: {e}\")\n",
        "        print(\"Please ensure the URL is valid and try again.\")\n",
        "    except Exception as e:\n",
        "        print(f\"An unexpected error occurred: {e}\")\n",
        "        print(\"Make sure you have FFmpeg installed and in your system's PATH.\")\n",
        "        print(\"You can download FFmpeg from: https://ffmpeg.org/download.html\")\n",
        "\n",
        "\n",
        "if __name__ == \"__main__\":\n",
        "    # Example usage:\n",
        "    # Replace this with the actual YouTube video URL you want to download.\n",
        "    # For demonstration, I'll use a placeholder.\n",
        "    # You can uncomment the line below and replace with your URL.\n",
        "\n",
        "    # youtube_url = \"https://www.youtube.com/watch?v=dQw4w9WgXcQ\" # Example Rick Astley URL\n",
        "\n",
        "    # Prompt the user to enter the URL\n",
        "    youtube_url = input(\"Please enter the YouTube video URL: \")\n",
        "\n",
        "    # You can specify an output directory, or leave it as \".\" for the current directory\n",
        "    output_directory = \"./downloaded_audio\"\n",
        "\n",
        "    if youtube_url:\n",
        "        download_youtube_audio_as_mp3(youtube_url, output_directory)\n",
        "    else:\n",
        "        print(\"No URL provided. Please run the script again and enter a URL.\")"
      ],
      "outputs": [
        {
          "output_type": "stream",
          "name": "stdout",
          "text": [
            "Please enter the YouTube video URL: https://www.youtube.com/watch?v=W0IE8d8vwDA\n",
            "Attempting to download audio from: https://www.youtube.com/watch?v=W0IE8d8vwDA\n",
            "[youtube] Extracting URL: https://www.youtube.com/watch?v=W0IE8d8vwDA\n",
            "[youtube] W0IE8d8vwDA: Downloading webpage\n",
            "[youtube] W0IE8d8vwDA: Downloading tv client config\n",
            "[youtube] W0IE8d8vwDA: Downloading player 9fe2e06e-main\n",
            "[youtube] W0IE8d8vwDA: Downloading tv player API JSON\n",
            "[youtube] W0IE8d8vwDA: Downloading ios player API JSON\n",
            "[youtube] W0IE8d8vwDA: Downloading m3u8 information\n",
            "[info] W0IE8d8vwDA: Downloading 1 format(s): 251\n",
            "[download] Destination: ./downloaded_audio/QUOTA - FNF： THE LETHAL LOGS.webm\n",
            "[download] 100% of    2.10MiB in 00:00:00 at 5.45MiB/s   \n",
            "[ExtractAudio] Destination: ./downloaded_audio/QUOTA - FNF： THE LETHAL LOGS.mp3\n",
            "Deleting original file ./downloaded_audio/QUOTA - FNF： THE LETHAL LOGS.webm (pass -k to keep)\n",
            "Download complete! Look for the MP3 file in the specified output directory.\n"
          ]
        }
      ],
      "execution_count": null,
      "metadata": {
        "colab": {
          "base_uri": "https://localhost:8080/"
        },
        "id": "e-KZFO7k9GlS",
        "outputId": "a04475a5-c4cf-48a9-f68d-1f97965a4381"
      }
    }
  ],
  "metadata": {
    "colab": {
      "provenance": []
    },
    "kernelspec": {
      "display_name": "Python 3",
      "name": "python3"
    }
  },
  "nbformat": 4,
  "nbformat_minor": 0
}